{
 "cells": [
  {
   "cell_type": "markdown",
   "id": "919c2e90-e8a5-464b-870f-83c32120f771",
   "metadata": {},
   "source": [
    "# Q2"
   ]
  },
  {
   "cell_type": "code",
   "execution_count": 1,
   "id": "7a3cc3a5-f9ed-42c3-b785-93a478c39b13",
   "metadata": {},
   "outputs": [
    {
     "name": "stdout",
     "output_type": "stream",
     "text": [
      "LeNet5(\n",
      "  (conv1): Conv2d(1, 6, kernel_size=(5, 5), stride=(1, 1))\n",
      "  (act1): ReLU()\n",
      "  (pool1): MaxPool2d(kernel_size=2, stride=2, padding=0, dilation=1, ceil_mode=False)\n",
      "  (conv2): Conv2d(6, 16, kernel_size=(5, 5), stride=(1, 1))\n",
      "  (act2): ReLU()\n",
      "  (pool2): MaxPool2d(kernel_size=2, stride=2, padding=0, dilation=1, ceil_mode=False)\n",
      "  (fc1): Linear(in_features=256, out_features=120, bias=True)\n",
      "  (act3): ReLU()\n",
      "  (fc2): Linear(in_features=120, out_features=84, bias=True)\n",
      "  (act4): ReLU()\n",
      "  (fc3): Linear(in_features=84, out_features=10, bias=True)\n",
      ")\n",
      "([150, 6, 2400, 16, 30720, 120, 10080, 84, 840, 10], 44426)\n",
      "----------------------\n",
      "CustomMLP(\n",
      "  (fc1): Linear(in_features=784, out_features=54, bias=True)\n",
      "  (act1): ReLU()\n",
      "  (fc2): Linear(in_features=54, out_features=28, bias=True)\n",
      "  (act2): ReLU()\n",
      "  (fc3): Linear(in_features=28, out_features=10, bias=True)\n",
      ")\n",
      "([42336, 54, 1512, 28, 280, 10], 44220)\n"
     ]
    }
   ],
   "source": [
    "!python ../template/model.py"
   ]
  },
  {
   "cell_type": "markdown",
   "id": "863addbf-edf2-46fc-ae09-38b692f26d45",
   "metadata": {},
   "source": [
    "## LeNet-5 Model Parameters\n",
    "### Conv1\n",
    "- Input Channel : 1\n",
    "- Filter : 6\n",
    "- Kernel : 5 * 5\n",
    "- Num of Parameters = 1 * 6 * 5 * 5 = 150\n",
    "- Bias(same with Activation) = 6\n",
    "### Conv2\n",
    "- Input Channel : 6 (Conv1 Output)\n",
    "- Filter : 16\n",
    "- Kernel : 5 * 5\n",
    "- Num of Parameters = 16 * 6 * 5 * 5\n",
    "- Bias = 16\n",
    "### FC1\n",
    "- Input : 16 * 4 * 4\n",
    "- Output : 120\n",
    "- Num of Parameters = 16 * 4 * 4 * 120 = 30720\n",
    "- Bias = 120\n",
    "\n",
    "### FC2\n",
    "- Input : 120\n",
    "- Output : 84\n",
    "- Num of Parameters = 120 * 84 = 10080\n",
    "- Bias = 84\n",
    "\n",
    "### FC3\n",
    "- Input : 84\n",
    "- Output : 10\n",
    "- Num of Parameters = 84 * 10 = 840\n",
    "- Bias = 10\n",
    "\n",
    "### Total : 150 + 6 + 2400 + 16 + 30720 + 120 + 10080 + 84 + 840 + 10 = 44426\n",
    "\n",
    "## CustomMLP Model Parameters\n",
    "### FC1\n",
    "- Input : 28 * 28\n",
    "- Output : 54\n",
    "- Num of Parameters = 28 * 28 * 54 = 42336\n",
    "- Bias = 54\n",
    "\n",
    "### FC2\n",
    "- Input : 54\n",
    "- Output : 28\n",
    "- Num of Parameters = 54 * 28 = 1512\n",
    "- Bias = 28\n",
    "\n",
    "### FC3\n",
    "- Input : 28\n",
    "- Output : 10\n",
    "- Num of Parameters = 28 * 10 = 280\n",
    "- Bias = 10\n",
    "\n",
    "### Total : 42336 + 54 + 1512 + 28 + 280 + 10 = 44220"
   ]
  }
 ],
 "metadata": {
  "kernelspec": {
   "display_name": "jhim",
   "language": "python",
   "name": "jhim"
  },
  "language_info": {
   "codemirror_mode": {
    "name": "ipython",
    "version": 3
   },
   "file_extension": ".py",
   "mimetype": "text/x-python",
   "name": "python",
   "nbconvert_exporter": "python",
   "pygments_lexer": "ipython3",
   "version": "3.9.18"
  }
 },
 "nbformat": 4,
 "nbformat_minor": 5
}
