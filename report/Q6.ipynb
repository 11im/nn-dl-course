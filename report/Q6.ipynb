{
 "cells": [
  {
   "cell_type": "markdown",
   "id": "78fd3b8c-642b-482a-94bb-8f4fa25e6ccb",
   "metadata": {},
   "source": [
    "# Q6"
   ]
  },
  {
   "cell_type": "markdown",
   "id": "bf0e14b4-a561-46be-9734-73f5e187bf95",
   "metadata": {},
   "source": [
    "### Applied Technique \\#1\n",
    "Applied Dropout on FC layers with p=0.3"
   ]
  },
  {
   "cell_type": "code",
   "execution_count": 1,
   "id": "f3bace14-f95b-4979-9fb5-9d175acc540b",
   "metadata": {},
   "outputs": [],
   "source": [
    "import torch.nn as nn\n",
    "\n",
    "class CustomLeNet5(nn.Module):\n",
    "    def __init__(self):\n",
    "        super(CustomLeNet5, self).__init__()\n",
    "        self.conv1 = nn.Conv2d(1, 6, kernel_size=5) # 합성곱\n",
    "        self.act1 = nn.ReLU()  # 활성화 함수\n",
    "        self.pool1 = nn.MaxPool2d(kernel_size=2, stride=2) # Subsampling\n",
    "        self.conv2 = nn.Conv2d(6, 16, kernel_size=5) # 합성곱\n",
    "        self.act2 = nn.ReLU()  # 활성화 함수\n",
    "        self.pool2 = nn.MaxPool2d(kernel_size=2, stride=2) # Subsampling\n",
    "       \n",
    "        self.fc1 = nn.Linear(16 * 4 * 4, 120) # Full pool2의 Output = 4*4\n",
    "        self.act3 = nn.ReLU()  # 활성화 함수\n",
    "        self.drop1 = nn.Dropout(p=0.3)\n",
    "\n",
    "        self.fc2 = nn.Linear(120, 84) # Full\n",
    "        self.act4 = nn.ReLU()  # 활성화 함수\n",
    "        self.drop2 = nn.Dropout(p=0.3)\n",
    "\n",
    "        self.fc3 = nn.Linear(84, 10) # Full\n",
    "         \n",
    "    def forward(self, img):\n",
    "        \n",
    "        output = self.conv1(img)\n",
    "        output = self.act1(output)\n",
    "        output = self.pool1(output)\n",
    "        \n",
    "        output = self.conv2(output)\n",
    "        output = self.act2(output)\n",
    "        output = self.pool2(output)\n",
    "        \n",
    "        output = output.view(-1, 16 * 4 * 4) # Full에 전달하기 전에 크기 맞춰주기\n",
    "        output = self.fc1(output)\n",
    "        output = self.act3(output)\n",
    "        output = self.drop1(output)\n",
    "        \n",
    "        output = self.fc2(output)\n",
    "        output = self.act4(output)\n",
    "        output = self.drop2(output)\n",
    "        \n",
    "        output = self.fc3(output)\n",
    "        \n",
    "        return output"
   ]
  },
  {
   "cell_type": "markdown",
   "id": "32e782e5-7f93-4c25-93ed-7345592f0aa2",
   "metadata": {},
   "source": [
    "### Applied Technique \\#2\n",
    "Applied Data Augmentation - RandomRotation using torchvision.transform.RandomRotation.\n",
    "All the other parameters were set to default and the rotation degrees was set to (-10,10) means that randomly rotated in range of -10 to 10"
   ]
  },
  {
   "cell_type": "code",
   "execution_count": 2,
   "id": "56e2cb50-ea81-43cc-968a-a33b2db6fa38",
   "metadata": {},
   "outputs": [],
   "source": [
    "import os\n",
    "import torch\n",
    "import PIL\n",
    "from torch.utils.data import Dataset\n",
    "from torchvision import transforms\n",
    "\n",
    "class CustomMNIST(Dataset):\n",
    "    def __init__(self, data_dir,train=True):\n",
    "        self.data_dir = data_dir\n",
    "        self.data_list = [os.path.join(data_dir, data) for data in os.listdir(data_dir)] # data list\n",
    "        if train:\n",
    "            self.transform =  transforms.Compose([transforms.ToTensor(),  # 이미지를 텐서로 변환, 자동으로 0~1로 Normalize\n",
    "                                                  transforms.RandomRotation(degrees=(-10, 10)), # # Data Augmentation - 랜덤 회전\n",
    "                                                  transforms.Normalize((0.1307,), (0.3081,))])  # 평균값 빼기 및 표준 편차로 나누기\n",
    "        else:\n",
    "            self.transform =  transforms.Compose([transforms.ToTensor(),  # 이미지를 텐서로 변환, 자동으로 0~1로 Normalize\n",
    "                                              transforms.Normalize((0.1307,), (0.3081,))])  # 평균값 빼기 및 표준 편차로 나누기\n",
    "    def __len__(self):\n",
    "        return len(self.data_list)\n",
    "\n",
    "    def __getitem__(self, idx):\n",
    "        target = self.data_list[idx]\n",
    "        label = int(target.split('_')[1].split('.')[0])\n",
    "        \n",
    "        image = PIL.Image.open(target).convert('L') \n",
    "        image = self.transform(image)\n",
    "        \n",
    "        return image, label"
   ]
  }
 ],
 "metadata": {
  "kernelspec": {
   "display_name": "Python 3 (ipykernel)",
   "language": "python",
   "name": "python3"
  },
  "language_info": {
   "codemirror_mode": {
    "name": "ipython",
    "version": 3
   },
   "file_extension": ".py",
   "mimetype": "text/x-python",
   "name": "python",
   "nbconvert_exporter": "python",
   "pygments_lexer": "ipython3",
   "version": "3.9.18"
  }
 },
 "nbformat": 4,
 "nbformat_minor": 5
}
